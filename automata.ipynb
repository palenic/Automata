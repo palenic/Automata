{
 "cells": [
  {
   "cell_type": "markdown",
   "metadata": {},
   "source": [
    "# Finite state and pushdown automata"
   ]
  },
  {
   "cell_type": "markdown",
   "metadata": {},
   "source": [
    "The module my_fsa implements finite state automata. The module my_pda implements pushdown automata and imports my_fsa, since PDA are an extension of the Fda class."
   ]
  },
  {
   "cell_type": "code",
   "execution_count": 1,
   "metadata": {},
   "outputs": [],
   "source": [
    "import my_fsa as fsa\n",
    "import my_pda as pda"
   ]
  },
  {
   "cell_type": "markdown",
   "metadata": {},
   "source": [
    "## 1. FSA\n",
    "### Light switch FSA\n",
    "Simple FSA with start and end state at Off. We can give the automaton a name. The function returns 0 if the string is accepted, -1 otherwise (not accepted or an error occurred)."
   ]
  },
  {
   "attachments": {},
   "cell_type": "markdown",
   "metadata": {},
   "source": [
    "<img src=\"pictures/onoff.png\">"
   ]
  },
  {
   "cell_type": "code",
   "execution_count": 2,
   "metadata": {},
   "outputs": [],
   "source": [
    "x = fsa.Fsa(\"light switch\")\n",
    "states = [\"on\",\"off\"]\n",
    "x.add_states(states)\n",
    "x.define_start(\"off\")\n",
    "x.define_end([\"off\"])\n",
    "x.add_transition(\"on\", \"S\", \"on\", \"\")\n",
    "x.add_transition(\"on\", \"R\", \"off\", \"\")\n",
    "x.add_transition(\"off\", \"S\", \"on\", \"\")\n",
    "x.add_transition(\"off\", \"R\", \"off\", \"\")"
   ]
  },
  {
   "cell_type": "code",
   "execution_count": 3,
   "metadata": {},
   "outputs": [
    {
     "name": "stdout",
     "output_type": "stream",
     "text": [
      "Running automaton light switch on input:  SSR\n",
      "the final state is:  off\n",
      "output:  \n",
      "The automaton accepts this string\n",
      "0 \n",
      "\n",
      "Running automaton light switch on input:  SSS\n",
      "the final state is:  on\n",
      "output:  \n",
      "The automaton does not accept this string\n",
      "-1 \n",
      "\n",
      "Running automaton light switch on input:  RSSRSRSR\n",
      "the final state is:  off\n",
      "output:  \n",
      "The automaton accepts this string\n",
      "0 \n",
      "\n"
     ]
    }
   ],
   "source": [
    "a=x.run_fsa(\"SSR\")\n",
    "print(a,\"\\n\")\n",
    "a=x.run_fsa(\"SSS\")\n",
    "print(a,\"\\n\")\n",
    "a=x.run_fsa(\"RSSRSRSR\")\n",
    "print(a,\"\\n\")"
   ]
  },
  {
   "cell_type": "markdown",
   "metadata": {},
   "source": [
    "### Finite state transducer\n",
    "This automaton accepts binary strings with an even number of 0's and any number of 1's and translates it by duplicating the 1's and halving the 0's."
   ]
  },
  {
   "attachments": {},
   "cell_type": "markdown",
   "metadata": {},
   "source": [
    "<img src=\"pictures/binarytransducer.png\">"
   ]
  },
  {
   "cell_type": "code",
   "execution_count": 4,
   "metadata": {},
   "outputs": [],
   "source": [
    "y = fsa.Fsa(\"binary transducer\")\n",
    "states = [\"q1\", \"q0\"]\n",
    "y.add_states(states)\n",
    "y.define_start(\"q0\")\n",
    "y.define_end([\"q0\"])\n",
    "y.add_transition(\"q0\", \"1\", \"q0\", \"11\")\n",
    "y.add_transition(\"q0\", \"0\", \"q1\", \"\")\n",
    "y.add_transition(\"q1\", \"1\", \"q1\", \"11\")\n",
    "y.add_transition(\"q1\", \"0\", \"q0\", \"0\")"
   ]
  },
  {
   "cell_type": "code",
   "execution_count": 5,
   "metadata": {},
   "outputs": [
    {
     "name": "stdout",
     "output_type": "stream",
     "text": [
      "Running automaton binary transducer on input:  0011001\n",
      "the final state is:  q0\n",
      "output:  01111011\n",
      "The automaton accepts this string\n",
      "\n",
      "Running automaton binary transducer on input:  011001\n",
      "the final state is:  q1\n",
      "output:  1111011\n",
      "The automaton does not accept this string\n",
      "\n",
      "Running automaton binary transducer on input:  011000\n",
      "the final state is:  q0\n",
      "output:  111100\n",
      "The automaton accepts this string\n"
     ]
    }
   ],
   "source": [
    "a=y.run_fsa(\"0011001\")\n",
    "print()\n",
    "a=y.run_fsa(\"011001\")\n",
    "print()\n",
    "a=y.run_fsa(\"011000\")"
   ]
  },
  {
   "attachments": {},
   "cell_type": "markdown",
   "metadata": {},
   "source": [
    "## 2. PDA\n",
    "### Strings of the type a<sup>n</sup>b<sup>n</sup>\n",
    "This automaton can read strings composed of a certain number of a's followed by the same number of b's by using the pile to count them and employing $\\varepsilon$-moves. A FSA cannot recognize a language of this kind because of the pumping lemma. To avoid crowding the code I wrote the function `pda_from_txt` that reads a configuration file to set up the automaton. *Remember: to accept the string the automaton must be finshed reading the input and be in a final state.*\n",
    "<img src=\"pictures/anbn.png\">"
   ]
  },
  {
   "cell_type": "code",
   "execution_count": 8,
   "metadata": {},
   "outputs": [
    {
     "name": "stdout",
     "output_type": "stream",
     "text": [
      "Running automaton  on input:  aaabbb\n",
      "the final state is:  q3\n",
      "output:  \n",
      "The automaton accepts this string\n"
     ]
    }
   ],
   "source": [
    "z = pda.pda_from_txt(\"data/anbn_v2.txt\")\n",
    "a=z.run_pda(\"aaabbb\")"
   ]
  },
  {
   "cell_type": "markdown",
   "metadata": {},
   "source": [
    "This string is fine. The last $\\varepsilon$ with an empty pile brought the automaton in a final state."
   ]
  },
  {
   "cell_type": "code",
   "execution_count": 9,
   "metadata": {},
   "outputs": [
    {
     "data": {
      "text/plain": [
       "['Z0']"
      ]
     },
     "execution_count": 9,
     "metadata": {},
     "output_type": "execute_result"
    }
   ],
   "source": [
    "z.pile"
   ]
  },
  {
   "cell_type": "code",
   "execution_count": 10,
   "metadata": {},
   "outputs": [
    {
     "name": "stdout",
     "output_type": "stream",
     "text": [
      "Running automaton  on input:  aabbb\n",
      "the final state is:  q3\n",
      "output:  \n",
      "The automaton does not accept this string\n"
     ]
    }
   ],
   "source": [
    "a=z.run_pda(\"aabbb\")"
   ]
  },
  {
   "cell_type": "markdown",
   "metadata": {},
   "source": [
    "This strings leads the automaton in a final state from which there is no exit, but the string is not finished, so the word is not accepted."
   ]
  },
  {
   "cell_type": "code",
   "execution_count": 11,
   "metadata": {},
   "outputs": [
    {
     "name": "stdout",
     "output_type": "stream",
     "text": [
      "Running automaton  on input:  aaabb\n",
      "the final state is:  q2\n",
      "output:  \n",
      "The automaton does not accept this string\n"
     ]
    }
   ],
   "source": [
    "a=z.run_pda(\"aaabb\")"
   ]
  },
  {
   "cell_type": "markdown",
   "metadata": {},
   "source": [
    "This string leads the automaton in a non-final state. We can see its pile"
   ]
  },
  {
   "cell_type": "code",
   "execution_count": 12,
   "metadata": {},
   "outputs": [
    {
     "data": {
      "text/plain": [
       "['Z0', 'A']"
      ]
     },
     "execution_count": 12,
     "metadata": {},
     "output_type": "execute_result"
    }
   ],
   "source": [
    "z.pile"
   ]
  },
  {
   "cell_type": "markdown",
   "metadata": {},
   "source": [
    "There is still A after Z<sub>0</sub> because there are less b's than a's."
   ]
  },
  {
   "attachments": {},
   "cell_type": "markdown",
   "metadata": {},
   "source": [
    "### Good parentheses\n",
    "Recognize sintactically correct parentheses.\n",
    "<img src=\"pictures/parenth.png\">"
   ]
  },
  {
   "cell_type": "code",
   "execution_count": 13,
   "metadata": {},
   "outputs": [
    {
     "name": "stdout",
     "output_type": "stream",
     "text": [
      "Running automaton  on input:  (()())\n",
      "the final state is:  q2\n",
      "output:  \n",
      "The automaton accepts this string\n"
     ]
    }
   ],
   "source": [
    "q = pda.pda_from_txt(\"data/parentheses.txt\")\n",
    "a = q.run_pda(\"(()())\")"
   ]
  },
  {
   "cell_type": "code",
   "execution_count": 14,
   "metadata": {},
   "outputs": [
    {
     "name": "stdout",
     "output_type": "stream",
     "text": [
      "Running automaton  on input:  ((()\n",
      "the final state is:  q1\n",
      "output:  \n",
      "The automaton does not accept this string\n"
     ]
    }
   ],
   "source": [
    "a=q.run_pda(\"((()\")"
   ]
  },
  {
   "cell_type": "code",
   "execution_count": 15,
   "metadata": {},
   "outputs": [
    {
     "name": "stdout",
     "output_type": "stream",
     "text": [
      "Running automaton  on input:  ))\n",
      "the final state is:  q0\n",
      "output:  \n",
      "The automaton does not accept this string\n"
     ]
    }
   ],
   "source": [
    "a = q.run_pda(\"))\")"
   ]
  },
  {
   "attachments": {},
   "cell_type": "markdown",
   "metadata": {},
   "source": [
    "### Complement\n",
    "Automaton to recognize sintactically wrong parentheses (I made it myself so it's probably not very good)\n",
    "<img src=\"pictures/parenth2.png\">"
   ]
  },
  {
   "cell_type": "code",
   "execution_count": 16,
   "metadata": {},
   "outputs": [
    {
     "name": "stdout",
     "output_type": "stream",
     "text": [
      "Running automaton  on input:  ((()))\n",
      "the final state is:  q1\n",
      "output:  \n",
      "The automaton does not accept this string\n"
     ]
    }
   ],
   "source": [
    "r = pda.pda_from_txt(\"data/parentheses_compl.txt\")\n",
    "a = r.run_pda(\"((()))\")"
   ]
  },
  {
   "cell_type": "code",
   "execution_count": 17,
   "metadata": {},
   "outputs": [
    {
     "name": "stdout",
     "output_type": "stream",
     "text": [
      "Running automaton  on input:  )))\n",
      "the final state is:  q3\n",
      "output:  \n",
      "The automaton accepts this string\n"
     ]
    }
   ],
   "source": [
    "a = r.run_pda(\")))\")"
   ]
  },
  {
   "cell_type": "code",
   "execution_count": 18,
   "metadata": {},
   "outputs": [
    {
     "name": "stdout",
     "output_type": "stream",
     "text": [
      "Running automaton  on input:  ((()\n",
      "the final state is:  q4\n",
      "output:  \n",
      "The automaton accepts this string\n"
     ]
    }
   ],
   "source": [
    "a = r.run_pda(\"((()\")"
   ]
  },
  {
   "cell_type": "code",
   "execution_count": null,
   "metadata": {},
   "outputs": [],
   "source": []
  }
 ],
 "metadata": {
  "kernelspec": {
   "display_name": "Python 3",
   "language": "python",
   "name": "python3"
  },
  "language_info": {
   "codemirror_mode": {
    "name": "ipython",
    "version": 3
   },
   "file_extension": ".py",
   "mimetype": "text/x-python",
   "name": "python",
   "nbconvert_exporter": "python",
   "pygments_lexer": "ipython3",
   "version": "3.7.6"
  }
 },
 "nbformat": 4,
 "nbformat_minor": 4
}
